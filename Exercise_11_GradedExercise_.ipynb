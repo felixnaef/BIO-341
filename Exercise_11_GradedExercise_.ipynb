{
 "cells": [
  {
   "cell_type": "markdown",
   "id": "61e6558d",
   "metadata": {
    "id": "msxy7km-lwO9"
   },
   "source": [
    "**Course**: BIO-341 [_Dynamical systems in biology_](https://moodle.epfl.ch/course/info.php?id=14291)\n",
    "\n",
    "**Professor**: _Julian Shillcock_ & _Felix Naef_\n",
    "\n",
    "SSV, BA5, 2023"
   ]
  },
  {
   "cell_type": "code",
   "execution_count": null,
   "id": "67275439",
   "metadata": {
    "id": "03GfzrTflwPA"
   },
   "outputs": [],
   "source": [
    "#import important libraries\n",
    "import numpy as np\n",
    "import matplotlib\n",
    "import matplotlib.pyplot as plt\n",
    "from IPython.display import set_matplotlib_formats\n",
    "from scipy.integrate import odeint\n",
    "import math as mt\n",
    "from mpl_toolkits.mplot3d import Axes3D\n",
    "from matplotlib.lines import Line2D\n",
    "import random"
   ]
  },
  {
   "cell_type": "markdown",
   "id": "58c20b49",
   "metadata": {},
   "source": [
    "# Circadian oscillators"
   ]
  },
  {
   "cell_type": "markdown",
   "id": "fd30eddb",
   "metadata": {},
   "source": [
    "## 1. Coupled oscillators (Paper and pencil)"
   ]
  },
  {
   "cell_type": "markdown",
   "id": "74c10745",
   "metadata": {},
   "source": [
    "The phases of these two oscillators with natural frequency (fréquence propre) $\\omega_1$ and $\\omega_2$ are written $\\phi_1(t)$ and\n",
    "$\\phi_2(t)$. \n",
    "\n",
    "They are coupled according to the following model:"
   ]
  },
  {
   "cell_type": "markdown",
   "id": "caedfef0",
   "metadata": {},
   "source": [
    "\\begin{equation}\n",
    "\\frac{d\\phi_1}{dt} = \\omega_1 + K f(\\phi_2 - \\phi_1)\n",
    "\\end{equation}\n",
    "\n",
    "\\begin{equation}\n",
    "\\frac{d\\phi_2}{dt} = \\omega_2  + K f(\\phi_1 - \\phi_2)\n",
    "\\end{equation}\n"
   ]
  },
  {
   "cell_type": "markdown",
   "id": "53dc994e",
   "metadata": {},
   "source": [
    "with $f(x) = \\sin(2x)$ "
   ]
  },
  {
   "cell_type": "markdown",
   "id": "94ac4a49",
   "metadata": {},
   "source": [
    "Determine whether the two phases synchronise, i.e. whether the phase difference $\\alpha =\\phi_2-\\phi_1$ reaches a stable fixed point."
   ]
  },
  {
   "cell_type": "markdown",
   "id": "4926f431",
   "metadata": {},
   "source": [
    "1. Form the differential equation for the phase difference $\\alpha =\\phi_2-\\phi_1$."
   ]
  },
  {
   "cell_type": "markdown",
   "id": "67929b7a",
   "metadata": {},
   "source": [
    "2. Explain whether this model allows the two phases to be synchronised, and if so, under what conditions.\n",
    "conditions."
   ]
  },
  {
   "cell_type": "markdown",
   "id": "956e1937",
   "metadata": {},
   "source": [
    "3. What happens to $\\alpha$ when $K$ goes to infinity?"
   ]
  },
  {
   "cell_type": "markdown",
   "id": "a6b53d3f",
   "metadata": {
    "id": "K3ZLuiG6lwPB"
   },
   "source": [
    "## 2. Circadian oscillators of a generic non-linear oscillator (Python)"
   ]
  },
  {
   "cell_type": "markdown",
   "id": "d33822fb",
   "metadata": {
    "id": "x20J1jcklwPC"
   },
   "source": [
    "Here, we first simulate a toy model of the circadian clock consisting of three variables that implements the now famous negative feedback loop oscillator (See the 2017 Nobel price in Physiology and Medicine)."
   ]
  },
  {
   "cell_type": "markdown",
   "id": "a72419bb",
   "metadata": {
    "id": "Cgy3UKkQlwPC"
   },
   "source": [
    "## A three-variable  model of a circadian oscillator"
   ]
  },
  {
   "cell_type": "markdown",
   "id": "b231447c",
   "metadata": {
    "id": "7_A7p_uylwPC"
   },
   "source": [
    "This is a highly simplified model of a circadian oscillator (see Feedback of the Drosophila period gene product on circadian cycling of its messenger RNA levels, Hardin P, Hall JC and Rosbash M, Nature 1990). It takes into account some basic ingredients, notably the negative feedback loop. A clock gene mRNA (X) produces a clock protein (Y) which, in turn, activates a transcriptional inhibitor (Z) of gene X."
   ]
  },
  {
   "cell_type": "markdown",
   "id": "4995e84a",
   "metadata": {
    "id": "3xLKb7X-lwPD"
   },
   "source": [
    "\\begin{equation}\n",
    "\\frac{dX}{dt} = v_{1} \\frac{K_{1}^{4}}{K_{1}^{4} + Z^ {4}} - v_{2} \\frac{X}{K_{2} + X} \n",
    "\\end{equation}\n",
    "\n",
    "\\begin{equation}\n",
    "\\frac{dY}{dt} = k_{3}X  - v_{4} \\frac{Y}{K_{4} + Y} \n",
    "\\end{equation}\n",
    "\n",
    "\\begin{equation}\n",
    "\\frac{dZ}{dt} = k_{5}Y  - v_{6} \\frac{Z}{K_{6} + Z}  \n",
    "\\end{equation}"
   ]
  },
  {
   "cell_type": "markdown",
   "id": "ecd55969",
   "metadata": {
    "id": "Z5e3DodrlwPD"
   },
   "source": [
    "### The Model"
   ]
  },
  {
   "cell_type": "markdown",
   "id": "68536d39",
   "metadata": {
    "id": "7pyvpD5rlwPE"
   },
   "source": [
    "1) Explain the different terms in the equations, and all the parameters. In particular explain the terms containing the fractions."
   ]
  },
  {
   "cell_type": "markdown",
   "id": "502d8d04",
   "metadata": {
    "id": "s9xuhL3BlwPE"
   },
   "source": [
    "2) Based on the literature, discuss plausible genes/proteins that could represent the $X,Y,Z$ variables."
   ]
  },
  {
   "cell_type": "markdown",
   "id": "1e76cc51",
   "metadata": {
    "id": "1VJ1_eV-lwPF"
   },
   "source": [
    "3) Discuss/criticize the main assumptions of the model."
   ]
  },
  {
   "cell_type": "markdown",
   "id": "10249204",
   "metadata": {
    "id": "zvj97huTlwPF"
   },
   "source": [
    "### Simulation of the Model"
   ]
  },
  {
   "cell_type": "markdown",
   "id": "a232735e",
   "metadata": {
    "id": "X42MRGVTlwPG"
   },
   "source": [
    "4) Using the values $v_{1} = 0.7 \\,nMh^{-1}, v_{2} = v_{4} = v_{6} = 0.35\\, nMh^{-1}, K_{1}=K_{2}=K_{4}=K_{6} = 1\\,nM$ and $k_{3}=k_{5}=0.7\\,h^{-1}$, simulate the model:  set appropriate initial conditions and time integration parameters to obtain a limit cycle. Plot some representative trajectories in 2D (x vs. time, y vs. time or z vs. time) or 3D. "
   ]
  },
  {
   "cell_type": "code",
   "execution_count": null,
   "id": "bb43e39c",
   "metadata": {
    "id": "-dMtmoyUlwPI"
   },
   "outputs": [],
   "source": [
    "#Solving the differential equations\n",
    "\n",
    "Tmax=5000\n",
    "dt=0.01\n",
    "tspan = np.arange(0, Tmax, dt)\n",
    "\n",
    "# Initial conditions setting \n",
    "X0=[0.14,0.18,1.8]\n",
    "\n",
    "# define the model\n",
    "def model(s, t):\n",
    "\n",
    "    # add here the equations of the model\n",
    "    \n",
    "    return x_dot, y_dot, z_dot\n",
    "\n",
    "# use odeint to find the trajectories \n",
    "sol=odeint(model, X0, tspan)\n",
    "\n",
    "# plot the trajectories of x, y, z on the last 250 index or 5 % of the vector\n",
    "\n",
    "# visualize the oscillation by plotting the trajectories x vs y and y vs z\n",
    "\n",
    "# (optional) plot the trajectories in a 3d plot x vs y vs z"
   ]
  },
  {
   "cell_type": "markdown",
   "id": "4b60090a",
   "metadata": {
    "id": "8CgzhT1jlwPJ"
   },
   "source": [
    "5) Use Period_finder on a long (many periods) trajectory on x. \n",
    "Comment the period distribution you find and its point estimate.\n",
    "What happens if you use the y or z trajectory to evaluate the period?"
   ]
  },
  {
   "cell_type": "markdown",
   "id": "1e1f5471",
   "metadata": {},
   "source": [
    "> Hint: subset the solution vector of the model to keep the last 40% of the signal "
   ]
  },
  {
   "cell_type": "code",
   "execution_count": null,
   "id": "7671f6ca",
   "metadata": {
    "id": "27q3ai3MnYnH"
   },
   "outputs": [],
   "source": [
    "def Period_finder(x, tspan, xlim=[0,50], ToPrint=True):\n",
    "    \n",
    "    signal = x\n",
    "    \n",
    "    omega = np.fft.fft(signal)\n",
    "    \n",
    "    modes = np.arange(omega.size)\n",
    "    \n",
    "    t_dist = (tspan[-1]-tspan[0])\n",
    "    \n",
    "    omega_cut = len(omega)//2\n",
    "    \n",
    "    modes = modes[1:omega_cut]\n",
    "    omega = omega[1:omega_cut]\n",
    "    \n",
    "    periods = t_dist/modes\n",
    "    \n",
    "    abs_o = np.absolute(omega)\n",
    "    max_o = np.argmax(abs_o)\n",
    "    \n",
    "    period_estimate = periods[max_o]\n",
    "    \n",
    "    if ToPrint:\n",
    "        plot_period(period_estimate, periods, abs_o)\n",
    "        print(\"the period value is about \" + str(round(period_estimate,2)) + \" hours\")\n",
    "    \n",
    "    return (period_estimate, periods, abs_o)\n",
    "\n",
    "def plot_period(period_estimate, periods, abs_o,xlim=[0,50]):\n",
    "    fig,ax= plt.subplots()\n",
    "\n",
    "    ax.axvline(period_estimate, ls='--', c='k')\n",
    "    \n",
    "    ax.plot(periods,abs_o/np.sum(abs_o))\n",
    "    \n",
    "    ax.set_xlim(xlim)\n",
    "    ax.set_xlabel(\"period\")\n",
    "    ax.set_ylabel(\"propobabilty density\")\n",
    "    \n",
    "    return (fig ,ax)"
   ]
  },
  {
   "cell_type": "code",
   "execution_count": null,
   "id": "cb6b5dfb",
   "metadata": {},
   "outputs": [],
   "source": [
    "# use the period finder function to find the period estimate\n",
    "\n",
    "# add your code here"
   ]
  },
  {
   "cell_type": "markdown",
   "id": "4354e0d5",
   "metadata": {
    "id": "3On_-PGWlwPM"
   },
   "source": [
    "#### Hopf bifurcation.\n",
    "6) Vary the value of the transcription rate $v_{1}$ in the interval $(0,5]$ $nMh^{-1}$. You can plot some representative trajectories (see the code before and replace the $v_{1}$). Plot and discuss the bifurcation diagram (show $X_{min}$ and $X_{max}$ in function of $v_{1}\\in\\left(0,5\\right]$)."
   ]
  },
  {
   "cell_type": "code",
   "execution_count": null,
   "id": "9c080362",
   "metadata": {},
   "outputs": [],
   "source": [
    "def model(s, t, v):\n",
    "\n",
    "    # define your model here\n",
    "    \n",
    "    return x_dot, y_dot, z_dot\n",
    "\n",
    "\n",
    "Tmax=5000\n",
    "dt=0.01\n",
    "tspan = np.arange(0, Tmax, dt)\n",
    "\n",
    "# Define a range to vary v\n",
    "vspan=np.linspace(0.1,5,20)\n",
    "\n",
    "X0=[0.14,0.18,1.8]\n",
    "\n",
    "for n,v in enumerate(vspan):\n",
    "    \n",
    "    # solve the system\n",
    "    sol=odeint(model, X0, tspan, args=(v,))\n",
    "\n",
    "    # plot representative trajectories x vs y\n",
    "\n",
    "\n",
    "\n",
    "# Bifurcation diagram\n",
    "# plot the minimum and the maximum of the solution according to v\n",
    "\n"
   ]
  },
  {
   "cell_type": "markdown",
   "id": "4fd4c4b9",
   "metadata": {},
   "source": [
    "## 3. Entrainement of a generic non-linear oscillator (Python)"
   ]
  },
  {
   "cell_type": "markdown",
   "id": "31abb84b",
   "metadata": {},
   "source": [
    "Let's take the model of exercise 2 and add an external periodic entrainement with period $T$ as follows:"
   ]
  },
  {
   "cell_type": "markdown",
   "id": "ba5f1bd3",
   "metadata": {},
   "source": [
    "\\begin{equation}\n",
    "\\frac{dX}{dt} =  v_{1\\_ent}(t) * \\frac{K_{1}^{4}}{K_{1}^{4} + Z^ {4}} - v_{2} \\frac{X}{K_{2} + X}\n",
    "\\end{equation}\n",
    "\n",
    "\\begin{equation}\n",
    "\\frac{dY}{dt} = k_{3}X  - v_{4} \\frac{Y}{K_{4} + Y} \n",
    "\\end{equation}\n",
    "\n",
    "\\begin{equation}\n",
    "\\frac{dZ}{dt} = k_{5}Y  - v_{6} \\frac{Z}{K_{6} + Z}  \n",
    "\\end{equation}\n",
    "\n",
    "where $v_{1\\_ent}(t) = v_{1} * A (1 + \\sin(\\frac{2\\pi}{T} t))$"
   ]
  },
  {
   "cell_type": "markdown",
   "id": "515f7912",
   "metadata": {},
   "source": [
    "1. Implement the entrainment in the model with $A = 0.01$ and $A = 0.2$. Is the oscilaltor stably entrained? If, what period do you expect then? Verify your prediction by simulation."
   ]
  },
  {
   "cell_type": "code",
   "execution_count": null,
   "id": "86a5b4da",
   "metadata": {},
   "outputs": [],
   "source": [
    "T_external = 25\n",
    "Tmax=T_external * 100\n",
    "dt=0.01\n",
    "tspan = np.arange(0, Tmax, dt)\n",
    "# Initial conditions setting \n",
    "X0=[0.14,0.18,1.8]"
   ]
  },
  {
   "cell_type": "code",
   "execution_count": null,
   "id": "67542e55",
   "metadata": {},
   "outputs": [],
   "source": [
    "# define the model\n",
    "def model(s, t, A):\n",
    "\n",
    "    # add here the equations of the model\n",
    "    \n",
    "    return x_dot, y_dot, z_dot\n",
    "\n",
    "# use odeint to find the trajectories \n",
    "sol=odeint(model, X0, tspan, args(A,))\n",
    "\n",
    "# plot the trajectories of x, y, z on the last 250 index or 5 % of the vector\n",
    "\n",
    "# visualize the oscillation by plotting the trajectories x vs y and y vs z\n",
    "\n",
    "# plot the period estimate using the period_finder function"
   ]
  },
  {
   "cell_type": "markdown",
   "id": "590c1259",
   "metadata": {},
   "source": [
    "2. Vary the value of the entrainment strength $A$ in the interval $[0,0.1]$. Which approximative value of A induces a change in period in the model?  You can plot representative trajectories and period diagram using the $period\\_finder$ provided function. Discuss your findings.\n",
    "\n",
    ">Hint: to visualise the trajectories, plot only the last 5 percent of the solution. "
   ]
  },
  {
   "cell_type": "code",
   "execution_count": null,
   "id": "4125657d",
   "metadata": {},
   "outputs": [],
   "source": [
    "T_external=25\n",
    "Tmax = T_external * 100 \n",
    "dt=0.01\n",
    "tspan = np.arange(0, Tmax, dt)\n",
    "# Initial Conditions\n",
    "X0=[0.15, 0.3, 1.8]"
   ]
  },
  {
   "cell_type": "code",
   "execution_count": null,
   "id": "59cbc01c",
   "metadata": {},
   "outputs": [],
   "source": [
    "def model(s, t, A):\n",
    "\n",
    "    # define your model here\n",
    "    \n",
    "    return x_dot, y_dot, z_dot\n",
    "\n",
    "\n",
    "# Define the range in which A vary\n",
    "# A\n",
    "\n",
    "for n,a in enumerate(vspan):\n",
    "    \n",
    "    # solve the system\n",
    "    sol=odeint(model, X0, tspan, args=(a,))\n",
    "\n",
    "    # plot representative trajectories x vs y\n",
    "\n",
    "    # plot the period estimate using the period_finder function\n",
    "\n",
    "\n"
   ]
  },
  {
   "cell_type": "markdown",
   "id": "2e2fd445",
   "metadata": {},
   "source": [
    "3. To analyse the change of period in relation to the entrainment strength $A$, simulate the model without entrainment for a time $T0$ and then switch on the entrainment. Vary the strength of the entrainment as in 3.2. Discuss the effect of the strength of the entrainment on the period (compare the period before and after switching the entrainment). Discuss your findings.\n",
    "\n",
    ">Hint: to visualise the trajectories, plot only the last 5 percent of the solution."
   ]
  },
  {
   "cell_type": "code",
   "execution_count": null,
   "id": "755fd0b9",
   "metadata": {},
   "outputs": [],
   "source": [
    "T_external=25\n",
    "\n",
    "# Total time of the simulation of the model\n",
    "Tmax = T_external * 100 #here we simulate a total of 100 cycles, you can also change this value\n",
    "dt=0.01\n",
    "\n",
    "# Time after the entrainment should start\n",
    "T0 = T_external * 40\n",
    "n_entrain= int(T0 / dt)\n",
    "\n",
    "# Initial Conditions\n",
    "X0=[0.15, 0.3, 1.8]"
   ]
  },
  {
   "cell_type": "code",
   "execution_count": null,
   "id": "b9418992",
   "metadata": {},
   "outputs": [],
   "source": [
    "def model(s, t, A):\n",
    "\n",
    "    # define your model here\n",
    "    \n",
    "    return x_dot, y_dot, z_dot\n",
    "\n",
    "\n",
    "# Define the range in which A vary\n",
    "# A\n",
    "\n",
    "# Define the two timespan vectors for before and after entrainment\n",
    "# \n",
    "\n",
    "for n,a in enumerate(vspan):\n",
    "    \n",
    "    # solve the system\n",
    "    sol=odeint(model, X0, tspan, args=(a,))\n",
    "\n",
    "    # plot representative trajectories x vs y\n",
    "\n",
    "    # plot the period estimate using the period_finder function\n",
    "\n",
    "\n"
   ]
  }
 ],
 "metadata": {
  "anaconda-cloud": {},
  "colab": {
   "collapsed_sections": [],
   "name": "Solutions 10.ipynb",
   "provenance": []
  },
  "kernelspec": {
   "display_name": "Python 3 (ipykernel)",
   "language": "python",
   "name": "python3"
  },
  "language_info": {
   "codemirror_mode": {
    "name": "ipython",
    "version": 3
   },
   "file_extension": ".py",
   "mimetype": "text/x-python",
   "name": "python",
   "nbconvert_exporter": "python",
   "pygments_lexer": "ipython3",
   "version": "3.11.5"
  },
  "unianalytics_cell_mapping": [
   [
    "61e6558d",
    "61e6558d"
   ],
   [
    "67275439",
    "67275439"
   ],
   [
    "58c20b49",
    "58c20b49"
   ],
   [
    "fd30eddb",
    "fd30eddb"
   ],
   [
    "74c10745",
    "74c10745"
   ],
   [
    "caedfef0",
    "caedfef0"
   ],
   [
    "53dc994e",
    "53dc994e"
   ],
   [
    "94ac4a49",
    "94ac4a49"
   ],
   [
    "4926f431",
    "4926f431"
   ],
   [
    "67929b7a",
    "67929b7a"
   ],
   [
    "956e1937",
    "956e1937"
   ],
   [
    "a6b53d3f",
    "a6b53d3f"
   ],
   [
    "d33822fb",
    "d33822fb"
   ],
   [
    "a72419bb",
    "a72419bb"
   ],
   [
    "b231447c",
    "b231447c"
   ],
   [
    "4995e84a",
    "4995e84a"
   ],
   [
    "ecd55969",
    "ecd55969"
   ],
   [
    "68536d39",
    "68536d39"
   ],
   [
    "502d8d04",
    "502d8d04"
   ],
   [
    "1e76cc51",
    "1e76cc51"
   ],
   [
    "10249204",
    "10249204"
   ],
   [
    "a232735e",
    "a232735e"
   ],
   [
    "bb43e39c",
    "bb43e39c"
   ],
   [
    "4b60090a",
    "4b60090a"
   ],
   [
    "1e1f5471",
    "1e1f5471"
   ],
   [
    "7671f6ca",
    "7671f6ca"
   ],
   [
    "cb6b5dfb",
    "cb6b5dfb"
   ],
   [
    "4354e0d5",
    "4354e0d5"
   ],
   [
    "9c080362",
    "9c080362"
   ],
   [
    "4fd4c4b9",
    "4fd4c4b9"
   ],
   [
    "31abb84b",
    "31abb84b"
   ],
   [
    "ba5f1bd3",
    "ba5f1bd3"
   ],
   [
    "515f7912",
    "515f7912"
   ],
   [
    "86a5b4da",
    "86a5b4da"
   ],
   [
    "67542e55",
    "67542e55"
   ],
   [
    "590c1259",
    "590c1259"
   ],
   [
    "4125657d",
    "4125657d"
   ],
   [
    "59cbc01c",
    "59cbc01c"
   ],
   [
    "2e2fd445",
    "2e2fd445"
   ],
   [
    "755fd0b9",
    "755fd0b9"
   ],
   [
    "b9418992",
    "b9418992"
   ]
  ],
  "unianalytics_notebook_id": "875de1e4-1943-424c-b0d9-ca681c6e69ae"
 },
 "nbformat": 4,
 "nbformat_minor": 5
}
