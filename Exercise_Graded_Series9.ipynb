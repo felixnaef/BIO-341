{
 "cells": [
  {
   "cell_type": "markdown",
   "metadata": {},
   "source": [
    "**Course**: [_Systèmes dynamiques en biologie_](https://moodle.epfl.ch/course/info.php?id=14291) (BIO-341)\n",
    "\n",
    "**Professor**: _Felix Naef_\n",
    "\n",
    "SSV, BA5, 2022"
   ]
  },
  {
   "cell_type": "markdown",
   "metadata": {},
   "source": [
    "## Graded Series 9 -  Deadline: 22 November 2022, 12h00 (midi).\n",
    "#### For plots: Use Code cells in the notebook.  \n",
    "#### For explanations, descriptions and equations: Use Markdown cells (please write the equations in Latex. See first paragraph below or previous corrections for examples) "
   ]
  },
  {
   "cell_type": "code",
   "execution_count": 2,
   "metadata": {},
   "outputs": [],
   "source": [
    "#import important libraries\n",
    "import numpy as np\n",
    "import matplotlib.pyplot as plt\n",
    "from IPython.display import set_matplotlib_formats\n",
    "from scipy.integrate import odeint\n",
    "import math as mt\n",
    "from mpl_toolkits.mplot3d import Axes3D\n",
    "from sympy import var, plot_implicit\n",
    "from matplotlib.lines import Line2D\n",
    "#set_matplotlib_formats('png', 'pdf')"
   ]
  },
  {
   "cell_type": "markdown",
   "metadata": {},
   "source": [
    "# Generic model of a limit cycle oscillator: Hopf oscillators"
   ]
  },
  {
   "cell_type": "markdown",
   "metadata": {},
   "source": [
    "## The model"
   ]
  },
  {
   "cell_type": "markdown",
   "metadata": {},
   "source": [
    "In mammals, many physiological and behavioral parameters are influenced by daily cyclic variations.\n",
    "For instance, blood pressure, heart rate, body temperature, or sleep-wake cycles change considerably\n",
    "during the course of a day. The central circadian (Latin: “about one day”) clock, which governs\n",
    "these rhythms, is located in the suprachiasmatic nuclei (SCN) of the ventral hypothalamus. This\n",
    "internal clock has an intrinsic period of about, but not exactly, 24 hours (e.g. in humans the mean\n",
    "period across individuals is near 24.5 hours). However, under natural conditions, this clock is\n",
    "typically entrained by environmental periodic signals.\n",
    "\n",
    "The strongest entrainment force for the endogenous clock is the daily light cycle. Jet-lag, as\n",
    "one experiences when traveling across time zones, is a manifestation of our internal clock being\n",
    "misaligned with respect to the entrainment signal at the destination. It typically takes few days\n",
    "until our internal clock readjusts to the new environmental phase."
   ]
  },
  {
   "cell_type": "markdown",
   "metadata": {},
   "source": [
    " A Hopf bifurcation is a critical point where a system changes stability and a periodic solution arises. As shown in the bifurcation diagram here, the system transitions between fixed-point and limit cycle behavior:"
   ]
  },
  {
   "cell_type": "markdown",
   "metadata": {},
   "source": [
    "The following model represents a generic nonlinear oscillator in 2D, as occurs near a Hopf bifurcation. A Hopf bifurcation is a critical point where a system changes stability and a periodic solution arises. As shown in the bifurcation diagram here, the system transitions between fixed-point and limit cycle behavior:\n",
    "\n",
    "![](hopf.png)\n",
    "\n",
    "Indeed, in the plane of the limit-cycle, a good approximation is given by the following model written in complex notation ($z=x+iy$ and $|z| = \\sqrt{x^2+y^2}$) :\n",
    "\n",
    "\\begin{equation}\\label{eq:2}\n",
    "\\dot{z}=(\\mu+i\\omega)z - (g + ih)z|z|^{2}~.\n",
    "\\end{equation}\n",
    "\n",
    "Here, $\\omega$ is a frequency ($2\\pi$/period), and $\\mu,g>0,h$ are parameters. The parameters $\\omega,\\mu,g>0,h$ depend on the microscopic details (chemical rates, etc)."
   ]
  },
  {
   "cell_type": "markdown",
   "metadata": {},
   "source": [
    "1) Write the model in cartesian ($x$ and $y$) coordinates (that is, write expressions for $\\dot{x}$ and $\\dot{y}$)."
   ]
  },
  {
   "cell_type": "markdown",
   "metadata": {},
   "source": [
    "2) Write the model in polar coordinates (that is, write the expression for $\\dot{R}$ and $\\dot{\\phi}$) using the following change of variable :\n",
    "\t\\begin{equation}\n",
    "\tz(t)=R(t)e^{i\\phi(t)}\n",
    "\t\\end{equation}\n",
    "\tExplain the significance of the four parameters? (See also next question)"
   ]
  },
  {
   "cell_type": "markdown",
   "metadata": {},
   "source": [
    "3) Discuss under which conditions this model shows a limit cycle in the $x,y$-plane. What is the radius of the limit cycle?"
   ]
  },
  {
   "cell_type": "markdown",
   "metadata": {},
   "source": [
    "# Entrainment"
   ]
  },
  {
   "cell_type": "markdown",
   "metadata": {},
   "source": [
    "We now consider the model in a situation where the oscillator is $\\underline{entrained}$ by an external periodic signal. A general model that describes this situation is written as (consider here $g=1$, $h=0$):\n",
    "\\begin{equation}\n",
    "\\dot{z}=(\\mu+ i \\omega)z - z |z|^{2} + F \\exp(i \\Omega t)~.\n",
    "\\end{equation}\n",
    "Here $F>0$ and $\\Omega=\\frac{2\\pi}{T}$ is the external frequency."
   ]
  },
  {
   "cell_type": "markdown",
   "metadata": {},
   "source": [
    "## Change of variables"
   ]
  },
  {
   "cell_type": "markdown",
   "metadata": {},
   "source": [
    "4) The dynamical system is not autonomous as it contains an explicit time dependence $e^{i\\Omega t}$. \n",
    "\n",
    "In order to make the system autonomous, apply the following change of variable:\n",
    "\\begin{equation}\n",
    "Z(t)=z(t)\\exp(-i\\Omega t)\n",
    "\\end{equation}\n",
    "Derive an equation for $\\dot{Z}$ and introduce the angular frequency difference $\\Delta=\\omega-\\Omega$."
   ]
  },
  {
   "cell_type": "markdown",
   "metadata": {},
   "source": [
    "5) Write the entrained model in cartesian ($x$ and $y$) coordinates (i.e. write expressions for $\\dot{x}$ and $\\dot{y}$)."
   ]
  },
  {
   "cell_type": "markdown",
   "metadata": {},
   "source": [
    "## Phase portrait for the entrained model"
   ]
  },
  {
   "cell_type": "markdown",
   "metadata": {},
   "source": [
    "Here we study under which conditions the oscillator is synchronized by the external stimulus $F$.\n",
    "Synchronization means that the system $\\dot{Z}=\\dots$ has a stable fixed point or a stable spiral."
   ]
  },
  {
   "cell_type": "markdown",
   "metadata": {},
   "source": [
    "6) Plot the phase portrait of the model in the ($x,y$) coordinates for the cases indicated below (again $g=1$ and $h=0$) for x, y in [-2, 2]. Plot the nullclines, vector field, and the trajectories for the initial conditions and tspan listed below. \n",
    "\n",
    "\n",
    "\n",
    "Describe the different phases portraits (how many and what type of fixed points do you find?). Do not use analytical calculations, only describe what you see from the numerical simulations.   \n",
    "     \n",
    "$\\Delta=0.25, F=0.8, \\mu = 0.5$; \n",
    "\n",
    "$\\Delta=0.05, F=0.1, \\mu = 0.5$; \n",
    "\n",
    "$\\Delta=1, F=0.8, \\mu = 0.5$; \n",
    "\n",
    "$\\Delta=1, F=0.4, \\mu = 0.5$; \n"
   ]
  },
  {
   "cell_type": "code",
   "execution_count": 2,
   "metadata": {},
   "outputs": [],
   "source": [
    "X0s = [np.array([-2,0.4]), np.array([2,-2])]\n",
    "Tmax=500\n",
    "dt=0.001\n",
    "tspan = np.arange(0, Tmax+dt, dt)"
   ]
  },
  {
   "cell_type": "markdown",
   "metadata": {},
   "source": [
    "## Arnold Tongues"
   ]
  },
  {
   "cell_type": "markdown",
   "metadata": {},
   "source": [
    "Now that you have understood the types of phase portrait that can occur in this model, summarize this in the $(\\Delta, F)$ plane."
   ]
  },
  {
   "cell_type": "markdown",
   "metadata": {},
   "source": [
    "7) Find an expression of the Jacobien of the model above and express the trace and determinant in function of $R^2$. \n",
    "    \n",
    "  "
   ]
  },
  {
   "cell_type": "markdown",
   "metadata": {},
   "source": [
    "8) The model can also be expressed in polar coordinates as follows :\n",
    "\n",
    "\\begin{equation}\n",
    "    \\dot R=\\mu R-R^3 + F \\cos (\\phi)\n",
    "\\end{equation}\n",
    "\\begin{equation}\n",
    "    \\dot \\phi= \\Delta - \\frac{F}{R} \\sin (\\phi) \n",
    "\\end{equation}\n",
    "\n",
    "In order to find the fixed points, combine these two equations (using that $cos^2(\\phi) + sin^2(\\phi) = 1$) to derive a cubic equation in $R^2$ for which the roots correspond to the fixed points.\n",
    "\n",
    "*Hint: this equation only depneds on $R^2$ and not $\\phi$.* "
   ]
  },
  {
   "cell_type": "markdown",
   "metadata": {},
   "source": [
    "9) Using the above formulae for the trace and determinant, indicate the stability of the fixed point(s) for the case where $\\mu =0.5$ in regions of the $(\\Delta, F)$ plane (vary $\\Delta$ in $[0, 2]$ and $F$ in $[0, 1.3]$).\n",
    "You can use the stability and coloring function below. In particular, indicate the region that correspond to synchronization. Interpret the result.\n",
    "\n",
    "\n",
    "\n",
    "*Hint: To find the coordinates of the fixed points, use the np.roots function to find the roots of the cubic equation you found above*"
   ]
  },
  {
   "cell_type": "code",
   "execution_count": 6,
   "metadata": {},
   "outputs": [],
   "source": [
    "def stability_dir(tau, D):\n",
    "    if D < 0:\n",
    "        type_fp = 'saddle fp'\n",
    "    elif D == 0:\n",
    "        type_fp = 'non-isolated fp'\n",
    "    else:\n",
    "        if tau**2-4*D < 0:\n",
    "            type_fp_2 = 'spiral'\n",
    "        elif tau**2-4*D == 0:\n",
    "            type_fp_2 = 'star'\n",
    "        else:\n",
    "            type_fp_2 = 'fp'\n",
    "            \n",
    "        if tau < 0:\n",
    "            type_fp = 'stable ' + type_fp_2\n",
    "        elif tau == 0:\n",
    "            type_fp = 'center '\n",
    "        else:\n",
    "            type_fp = 'unstable ' + type_fp_2\n",
    "    return type_fp\n",
    "\n",
    "def coloring(type_fp):\n",
    "    if(type_fp=='saddle point'):\n",
    "        return 'firebrick'\n",
    "    elif(type_fp=='non-isolated fp'):\n",
    "        return 'salmon'\n",
    "    elif(type_fp=='center'):\n",
    "        return 'crimson'\n",
    "    elif(type_fp=='stable spiral'):\n",
    "        return 'blue'\n",
    "    elif(type_fp=='stable star'):\n",
    "        return 'blueviolet'\n",
    "    elif(type_fp=='stable fp'):\n",
    "        return 'darkviolet'\n",
    "    elif(type_fp=='unstable spiral'):\n",
    "        return 'deepskyblue'\n",
    "    elif(type_fp=='unstable star'):\n",
    "        return 'skyblue'\n",
    "    elif(type_fp=='unstable fp'):\n",
    "        return 'aqua'"
   ]
  }
 ],
 "metadata": {
  "anaconda-cloud": {},
  "kernelspec": {
   "display_name": "Python 3",
   "language": "python",
   "name": "python3"
  },
  "language_info": {
   "codemirror_mode": {
    "name": "ipython",
    "version": 3
   },
   "file_extension": ".py",
   "mimetype": "text/x-python",
   "name": "python",
   "nbconvert_exporter": "python",
   "pygments_lexer": "ipython3",
   "version": "3.8.8"
  }
 },
 "nbformat": 4,
 "nbformat_minor": 4
}
