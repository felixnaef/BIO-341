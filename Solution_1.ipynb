{
 "cells": [
  {
   "cell_type": "markdown",
   "metadata": {},
   "source": [
    "**Course**: BIO-341 [_Systèmes dynamiques en biologie_](https://moodle.epfl.ch/course/info.php?id=14291)\n",
    "\n",
    "**Professor**: _Felix Naef_\n",
    "\n",
    "SSV, BA5, 2022\n",
    "\n",
    "Note that this document is primarily aimed at being consulted as a Jupyter notebook, the PDF rendering being not optimal."
   ]
  },
  {
   "cell_type": "code",
   "execution_count": 1,
   "metadata": {},
   "outputs": [],
   "source": [
    "import numpy as np\n",
    "import matplotlib.pyplot as plt\n",
    "from ipywidgets import interact"
   ]
  },
  {
   "cell_type": "markdown",
   "metadata": {},
   "source": [
    "# Growth models in 1D"
   ]
  },
  {
   "cell_type": "markdown",
   "metadata": {},
   "source": [
    "## Linear model for population growth"
   ]
  },
  {
   "cell_type": "markdown",
   "metadata": {},
   "source": [
    "Consider a population of $N$ birds with birth and death rates $n$ and $m$. Arrival of new individuals through migrations occurs at rate $a > 0$. This can be translated into the simple model:\n",
    "\n",
    "\\begin{equation}\n",
    "\\frac{dN}{dt} = F(N)=(n-m)N+a\n",
    "\\end{equation}\n",
    "\n",
    "**1) Write down what type of equation this is, e.g. first order, second order, linear, non-linear, etc.**\n"
   ]
  },
  {
   "cell_type": "markdown",
   "metadata": {},
   "source": [
    "**2) Solve this equation analytically using the Ansatz**: $N(t)=Ae^{\\lambda t} + B$. Express $A,B$ and $\\lambda$ in function of the rates and the population size $N_{0} =N(t=0)$; explicitly write the solution $N(t)$."
   ]
  },
  {
   "cell_type": "markdown",
   "metadata": {},
   "source": [
    "**3) Solve the equation using an alternative method, such as the separation of variables.**"
   ]
  },
  {
   "cell_type": "markdown",
   "metadata": {},
   "source": [
    "**4) Qualitative analysis**\n",
    "\n",
    "1) Draw $F(N)$ in function of $N$ for the two cases (i) $n<m$ and (ii) $n>m$. *Note: you are also expected to draw and solve such simple problems by hand.*"
   ]
  },
  {
   "cell_type": "markdown",
   "metadata": {},
   "source": [
    "2) What is the main qualitative difference between the two cases and how does this affect the long time $t\\to\\infty$ behavior of the solution that you found above?"
   ]
  },
  {
   "cell_type": "markdown",
   "metadata": {},
   "source": [
    "3) Here you can verify what you answered under 2) numerically. Generate some representative plots for $N(t)$ where you vary the parameters and initial conditions of the model."
   ]
  },
  {
   "cell_type": "markdown",
   "metadata": {},
   "source": [
    "**5) Discuss why this equation is good or bad at describing real populations.**"
   ]
  },
  {
   "cell_type": "markdown",
   "metadata": {},
   "source": [
    "## Integration by separation of variables"
   ]
  },
  {
   "cell_type": "markdown",
   "metadata": {},
   "source": [
    "**1) Solve the following differential equations to obtain $x(t)$ by the method of separation of variables. Use the initial condition $x(t)=x_{0}$ when $t=0$.**\n",
    "\n",
    "1. $\\frac{dx}{dt}= xe^{-2t}$\n",
    "\n",
    "*Reminder*: The explicit solution of a differential equation $\\frac{dx}{dt} = F(x)$ can be written as a function of $t, x(t)=g(t)$,  while the implicit form is written $h(x(t))=g(t)$, where the function $h(x)$ might not be easily invertible."
   ]
  },
  {
   "cell_type": "markdown",
   "metadata": {},
   "source": [
    ">1. Separating the variables gives :   \n",
    "$\\int_{x_{0}}^{x} \\frac{1}{x} dx = \\int_{0}^{t} e^{-2 t}d t$  \n",
    "After integration you obtain the implicit form:   \n",
    "$\\ln(x(t))= - \\frac{1}{2}e^{-2t} + C$   \n",
    "With $C= \\frac{1}{2} + \\ln(x_{0})$  \n",
    "The explicit form is:  \n",
    "$x(t)=e^{\\frac{1}{2}}x_{0}e^{-\\frac{1}{2}e^{-2t}}$  "
   ]
  },
  {
   "cell_type": "markdown",
   "metadata": {},
   "source": [
    "## The Gompertz model for tumor growth"
   ]
  },
  {
   "cell_type": "markdown",
   "metadata": {},
   "source": [
    "A surprisingly accurate model for the growth of a tumor of volume $N$ is given by the following differential equation\n",
    "\\begin{equation}\n",
    "\\frac{dN}{dt}=r(t)N(t) \n",
    "\\end{equation}\n",
    "with $r(t)=r_{0}e^{-at}$ and initial size $N(0)=N_{0}$. In other words, the population grows with a time dependent rate $r(t)$, which decreases exponentially in time with a rate $a$.  \n",
    "\n",
    "**1) Give a plausible explanation for the proposed behavior of $r(t)$. Why should the growth rate decrease with time?**"
   ]
  },
  {
   "cell_type": "markdown",
   "metadata": {},
   "source": [
    ">This is due to the fact that resources (i.e. nutrients) become limiting : as the population grows, the surface of the tumor grows slower than its volume, so the nutrients intake per cell decreases in time. The lack of space also limits the growth."
   ]
  },
  {
   "cell_type": "markdown",
   "metadata": {},
   "source": [
    "**2) What is the meaning of $r_{0}$?**"
   ]
  },
  {
   "cell_type": "markdown",
   "metadata": {},
   "source": [
    ">$r_{0}$ is the population *relative* growth rate at time zero $(t=0)$"
   ]
  },
  {
   "cell_type": "markdown",
   "metadata": {},
   "source": [
    "**3) Show that the solution for $N(t)$ in function of the 3 parameters $N_{0}, r_{0}, a$  can be written as $N(t)=N_{0}e^{\\frac{r_{0}}{a}(1-e^{-at})}$.**  \n",
    "*Hint*: Use the method of separation of variables."
   ]
  },
  {
   "cell_type": "markdown",
   "metadata": {},
   "source": [
    ">$\\int_{N_{0}}^{N} \\frac{1}{N} dN= r_{0} \\int_{0}^{t}e^{-at} dt$  \n",
    "Integration gives the solution."
   ]
  },
  {
   "cell_type": "markdown",
   "metadata": {},
   "source": [
    "**4) Study the solution:**\n",
    "\n",
    "1. Show that for very short times the population grows linearly like $N(t)= N_0 (1 + r_0 t)$.\n",
    "2. Show that for very long times $N(t)\\cong N_{max}(1-\\frac{r_{0}}{a}e^{-at})$.\n",
    "\n",
    "\n",
    "*Hint*: Use the Taylor approximation $e^{x} \\approx 1 + x$ (valid for small x) for the inner or the outer exponential when appropriate."
   ]
  },
  {
   "cell_type": "markdown",
   "metadata": {},
   "source": [
    ">1. When $t$ is close to zero, the condition for the Taylor approximation is valid for the inner exponential $e^{-at}$.  \n",
    "Using $e^{-at} \\approx 1 - at$, we find that:  \n",
    "$N(t)=N_{0}e^{\\frac{r_{0}}{a}(1-1+at)}=N_{0}e^{r_{0}t}$  \n",
    "Then, we apply the Taylor approximation again, the growth is *linear* for small times:\n",
    "$$N(t) \\approx N_0 e^\\frac{r_0}{t} \\approx N_0 (1 + r_0 t)$$\n",
    "\n",
    ">2. Rewriting the solution like:  \n",
    "$N(t)=N_{0}e^{\\frac{r_{0}}{a}}e^{-\\frac{r_{0}e^{-at}}{a}}$  \n",
    "We see that $-\\frac{r_{0}}{a}e^{-at}$ becomes small when $t$ is large, so we can use the Taylor expansion to the first order:  \n",
    "$N(t)=N_{0}e^{\\frac{r_{0}}{a}}(1- \\frac{r_{0}}{a}e^{-at})$ <br> or $N(t)=N_{max}(1- \\frac{r_{0}}{a}e^{-at})$ with $N_{max}=N_{0}e^{\\frac{r_{0}}{a}}$."
   ]
  },
  {
   "cell_type": "markdown",
   "metadata": {},
   "source": [
    "**5) Sketch the solution. Indicate $N_{max}$. How does the $N$ approaches $N_{max}$?**"
   ]
  },
  {
   "cell_type": "markdown",
   "metadata": {},
   "source": [
    "Here is the plot of the solution for arbitrary values of the constants $N_{0}, r_{0}$ and $a$. $N_{max}$ is the asymptotic value of $N(t)$ for long times. $N$ approaches $N_{max}$ exponentially fast."
   ]
  },
  {
   "cell_type": "code",
   "execution_count": 7,
   "metadata": {},
   "outputs": [
    {
     "data": {
      "image/png": "[encoded data removed]",
      "text/plain": [
       "<Figure size 640x480 with 1 Axes>"
      ]
     },
     "metadata": {},
     "output_type": "display_data"
    }
   ],
   "source": [
    "#define analytical function for N\n",
    "def N2(N0, r0, a, t):\n",
    "    return N0*np.exp((r0/a)*(1-np.exp(-a*t)))\n",
    "\n",
    "#define parameters\n",
    "N0 = 2\n",
    "r0 = 3\n",
    "a = 0.7\n",
    "Nmax = N0*np.exp(r0/a)\n",
    "tspan = np.linspace(0,7,1000)\n",
    "\n",
    "#plot\n",
    "plt.plot(tspan, N2(N0,r0,a,tspan))\n",
    "plt.axhline(Nmax, color = 'red', ls = '--')\n",
    "plt.text(0.5, Nmax-0.5, 'Nmax', color = 'red')\n",
    "plt.xlabel('t')\n",
    "plt.ylabel('N(t)')\n",
    "plt.show()"
   ]
  }
 ],
 "metadata": {
  "anaconda-cloud": {},
  "kernelspec": {
   "display_name": "Python 3",
   "language": "python",
   "name": "python3"
  },
  "language_info": {
   "codemirror_mode": {
    "name": "ipython",
    "version": 3
   },
   "file_extension": ".py",
   "mimetype": "text/x-python",
   "name": "python",
   "nbconvert_exporter": "python",
   "pygments_lexer": "ipython3",
   "version": "3.8.8"
  },
  "title": "Exercise 1: Growth models in 1D",
  "widgets": {
   "state": {
    "24aa0b8d62014553b6fdce05a067bb36": {
     "views": [
      {
       "cell_index": 18
      }
     ]
    }
   },
   "version": "1.2.0"
  }
 },
 "nbformat": 4,
 "nbformat_minor": 4
}
