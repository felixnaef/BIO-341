{
 "cells": [
  {
   "cell_type": "markdown",
   "metadata": {
    "id": "DZoLt0zF7La3"
   },
   "source": [
    "**Course**: [_Modélisation mathématique et computationnelle en biologie_](https://moodle.epfl.ch/course/info.php?id=14291) (BIO-341)\n",
    "\n",
    "**Professor**: _Felix Naef_\n",
    "\n",
    "SSV, BA5, 2021"
   ]
  },
  {
   "cell_type": "code",
   "execution_count": 2,
   "metadata": {
    "id": "hA4-xWAr7La-"
   },
   "outputs": [],
   "source": [
    "#import important libraries\n",
    "import numpy as np\n",
    "import matplotlib.pyplot as plt\n",
    "from IPython.display import set_matplotlib_formats\n",
    "set_matplotlib_formats('png', 'pdf')"
   ]
  },
  {
   "cell_type": "markdown",
   "metadata": {
    "id": "cCPnMub27La-"
   },
   "source": [
    "# Firing neurons and excitable systems FitzHugh-Nagumo model"
   ]
  },
  {
   "cell_type": "markdown",
   "metadata": {
    "id": "VK-7buE47La-"
   },
   "source": [
    "The goal of this exercise is to study a prototype model that describes the membrane potential of a neuron. The FitzHugh-Nagumo model is a 2D simplification of the famous Hodgkin-Huxley (HH) model that was developed in the late 1940's when the two scientists performed their seminal electrophysiology work on the giant squid axon that later lead to the Nobel Prize. The HH model describes the time-dependent voltage $V(t)$ across a cell\n",
    "membrane as:\n",
    "$$C_m \\frac{dV}{dt}=-\\frac{V-V_{eq}}{R} +I_{tot}$$\n",
    "where $C_m$ is the membrane capacitance, $R$ the resistance, $V_{eq}$ the rest potential and $I_{tot}$\n",
    "the current. The resistance is dependent on the characteristics of each ion channel  (sodium, potassium, etc.).\n",
    "\n",
    "Scheme:\n",
    "![](schema_v2.png \"schema\")\n"
   ]
  },
  {
   "cell_type": "markdown",
   "metadata": {
    "id": "Kh_Vzner7La-"
   },
   "source": [
    "## FitzHugh-Nagumo model (pencil & Python)"
   ]
  },
  {
   "cell_type": "markdown",
   "metadata": {
    "id": "HaAjBdx77La-"
   },
   "source": [
    "The FitzHugh Nagumo model keeps some essential characteristics of the HH model and is the  following:\n",
    "\\begin{eqnarray*}\n",
    "\\dot{v} &=& -av + v^2 - v^3/3 -w  \\\\\n",
    "\\dot{w} &=& \\epsilon (v - \\gamma w)  \\\\\n",
    "\\end{eqnarray*}\n",
    "\n",
    "where $v$ describes the membrane potential of the cell and $w$ is a slower variable (for small values of $\\epsilon$) that describes the conductance of the potassium channel. We will take the parameters $\\epsilon = 0.08$  and $\\gamma = 1$ as constants and vary the parameter $a$: \n",
    "\n",
    "   Case A: $a = 0.2$\n",
    "   \n",
    "   Case B: $a = -0.2$\n",
    "\n",
    "For this first exercise answer each question for both cases A and B.\n"
   ]
  },
  {
   "cell_type": "markdown",
   "metadata": {
    "id": "_HyE2FYX7La_"
   },
   "source": [
    "#### 1) Study the phase plane.\n",
    "\n",
    "  1. Find the nullclines and their intersections with the $v$ axis.\n",
    "  \n",
    "  2. Find the fixed points.\n",
    "  \n",
    "  3. Determine the stability of the fixed points.\n",
    "  \n",
    "  4. When does the fixed point change its stability?"
   ]
  },
  {
   "cell_type": "markdown",
   "metadata": {
    "id": "YyGPtSMS7LbB"
   },
   "source": [
    "#### 2) Plot the complete phase portrait.\n",
    "  1. Plot the nullclines  in the phase plane ($v$,$w$).\n",
    "  2. Indicate the fixed points and their stability.\n",
    "  3. Plot the vector field (`matplotlib.pyplot.quiver` function is suitable for this).\n",
    "  4. Choose a few representative initial conditions and plot the corresponding trajectories (look at `scipy.integrate.odeint` function for integration). Hint: generate and plot trajectories for 10 evenly spaced initial conditions on the circle $v^2+w^2=0.5^2$ with radius 0.5. \n",
    "  5.  Discuss the similarities and the differences between the two cases. Try to understand what, in the geometry of the nullclines, makes the difference (hint: look at the nullclines around the fixed point).\n",
    "  6. In case A, you should see two different \"types\" of trajectories. Discuss what are these types and the meaning of the word \"excitable\"."
   ]
  },
  {
   "cell_type": "markdown",
   "metadata": {
    "id": "REol3_TG7LbC"
   },
   "source": [
    "#### 3) Plot a few trajectories in function of time.\n",
    "\n",
    "  1. For both cases, choose two (or more) initial conditions among the ones you have plotted in the answer to question 2.4 and plot the corresponding trajectories. For case A choose initial conditions giving rise to different \"types\" of trajectories in the phase space (according to your answer to question 2.6).  \n",
    "  2. Comment on the properties of the trajectories for cases A and B. In particular, how do you explain the \"jumps\" in the values of $v$ and $w$?\n",
    "  3. Let's consider case A. Discuss excitable systems in connection with neural excitations (or action potentials)."
   ]
  }
 ],
 "metadata": {
  "anaconda-cloud": {},
  "colab": {
   "name": "Solution 9.ipynb",
   "provenance": []
  },
  "kernelspec": {
   "display_name": "Python 3",
   "language": "python",
   "name": "python3"
  },
  "language_info": {
   "codemirror_mode": {
    "name": "ipython",
    "version": 3
   },
   "file_extension": ".py",
   "mimetype": "text/x-python",
   "name": "python",
   "nbconvert_exporter": "python",
   "pygments_lexer": "ipython3",
   "version": "3.8.8"
  },
  "title": "Exercise 9: Firing neurons and excitable systems FitzHugh-Nagumo model"
 },
 "nbformat": 4,
 "nbformat_minor": 1
}
