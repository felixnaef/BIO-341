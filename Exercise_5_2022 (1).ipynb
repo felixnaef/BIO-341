{
 "cells": [
  {
   "cell_type": "markdown",
   "metadata": {},
   "source": [
    "# Week 5: Graded Series"
   ]
  },
  {
   "cell_type": "markdown",
   "metadata": {
    "id": "haWxhjDoBrz3"
   },
   "source": [
    "**Course**: [_Modélisation mathématique et computationnelle en biologie_](https://moodle.epfl.ch/course/info.php?id=14291)\n",
    "\n",
    "**Professor**: _Felix Naef_\n",
    "\n",
    "SSV, BA5, 2022 (Graded exercise series)\n",
    "\n"
   ]
  },
  {
   "cell_type": "code",
   "execution_count": 1,
   "metadata": {
    "id": "ONq5uMQ6Brz6"
   },
   "outputs": [],
   "source": [
    "import numpy as np\n",
    "import matplotlib.pyplot as plt\n",
    "from ipywidgets import interact\n",
    "from scipy.integrate import odeint"
   ]
  },
  {
   "cell_type": "markdown",
   "metadata": {
    "id": "Gof0ppPuBrz8"
   },
   "source": [
    "# Linear phase portraits\n",
    "\n",
    "Consider the following linear system:\n",
    "\n",
    "\n",
    "$$\n",
    "\\begin{array}{c}\n",
    "\\dot{x} = 2x + 2y\\\\\n",
    "\\dot{y} = 8x - 4y\n",
    "\\end{array}\n",
    "$$\n",
    "\n"
   ]
  },
  {
   "cell_type": "markdown",
   "metadata": {},
   "source": [
    "**1. Find the fixed point(s) and specify its/their stability.**"
   ]
  },
  {
   "cell_type": "markdown",
   "metadata": {},
   "source": [
    "**2. Find the eigenvalues and eigenvectors of the matrix associated with this system.**"
   ]
  },
  {
   "cell_type": "markdown",
   "metadata": {},
   "source": [
    "**3. Use 2. to write the general solution of the system**"
   ]
  },
  {
   "cell_type": "markdown",
   "metadata": {
    "id": "YF2qK5IuBrz-"
   },
   "source": [
    "**4. Plot the phase portrait in the $(x,y)$-plane.**    \n",
    "\n",
    "\n",
    "Plot using python:\n",
    "\n",
    "- the fixed point(s)\n",
    "\n",
    "- the isoclines \n",
    "\n",
    "- the eigenvectors\n",
    "\n",
    "- the vector field \n",
    "\n",
    "> Hint: To plot the vector field you can use:\n",
    "\n",
    "> - np.meshgrid to define the positions at which you want to represent the arrows. \n",
    "\n",
    "> - Use plt.quiver to plot the arrow field\n",
    "\n",
    "> - You can also look at previous corrections to understand how to plot a phase portrait using Python.\n",
    "\n",
    "- Representative trajectories for different initial conditions listed in the array defined below ($X_0s$).\n",
    "\n",
    "> Hint: To plot trajectories, use the explicit solution that you have found in 3. \n",
    "\n",
    "\n",
    "Plot for values of x and y in the interval [-5,5]. For the trajectories, use the tspan vector defined below.\n",
    "\n",
    "  "
   ]
  },
  {
   "cell_type": "code",
   "execution_count": 2,
   "metadata": {
    "id": "vP-60OB4Brz_"
   },
   "outputs": [],
   "source": [
    "# Time domain\n",
    "tspan = np.linspace(0, 10, 1000)\n",
    "\n",
    "# Initial conditions\n",
    "X0s = [(-2.5,5), (2.5,-5), (1,-5), (0,5)]  \n",
    "    "
   ]
  },
  {
   "cell_type": "markdown",
   "metadata": {
    "id": "plPNbgUkBr0C"
   },
   "source": [
    "# Competitive exclusion in microbial ecology"
   ]
  },
  {
   "cell_type": "markdown",
   "metadata": {
    "id": "A2TW3IePBr0D"
   },
   "source": [
    "In this model, two populations of bacteria $N,M$ (e.g., *Escherichia coli* and *Lactobacillus acidophilus*) compete for the same resources in the same environment (for example in the gut).\n",
    "A general model that describes this interaction takes the form :\n",
    "\n",
    "$$\n",
    "\\frac{dN}{dt} = N \\left( 1 - \\alpha N - M /\\alpha \\right)\n",
    "$$\n",
    "$$\n",
    "\\frac{dM}{dt} =  M \\left( 1 - N - M \\right)\n",
    "$$\n",
    "  \n",
    "with  $\\alpha$ $\\ge 0$. "
   ]
  },
  {
   "cell_type": "markdown",
   "metadata": {
    "id": "6cErwttkBr0D"
   },
   "source": [
    "\n",
    "**1. Calculate the isoclines, the fixed points, and an expression of the Jacobien for the system depending on $\\alpha$.**\n",
    "\n"
   ]
  },
  {
   "cell_type": "markdown",
   "metadata": {
    "id": "SWIeoYj2Br0E"
   },
   "source": [
    "**2. Calculate the Jacobian matrix for $\\alpha$ = 1/4 and $\\alpha$ = 4 at every fixed point. In both cases, discuss the stability of the fixed points** \n"
   ]
  },
  {
   "cell_type": "markdown",
   "metadata": {
    "id": "zqw8qe6dBr0E"
   },
   "source": [
    "**3.  Plot the phase portraits  for the two cases $\\alpha=1/4$ and $\\alpha=4$.**\n",
    "\n",
    "Plot using Python: \n",
    "\n",
    "- the isoclines\n",
    "\n",
    "- the fixed points\n",
    "\n",
    "- the vector field\n",
    "\n",
    "- Some representative trajectories for the initial conditions listed in  the array below ($X_0s$)\n",
    "\n",
    "> Hint: Since here you don't have the exact solution,you can use the odeint function of scipy. Look at previous corrections to understand how this works\n",
    "\n",
    "Plot the phase portait for x and y in the interval: [-0.5, 5]. For trajectories, use the tspan defined below."
   ]
  },
  {
   "cell_type": "code",
   "execution_count": 7,
   "metadata": {
    "id": "PrcNbM_OBr0F"
   },
   "outputs": [],
   "source": [
    "#time domain\n",
    "tspan = np.linspace(0, 10, 1000)\n",
    "\n",
    "# Declare the initial conditions\n",
    "X0s = [(5,1), (5,4), (1,5), (-0.1,4), (-0.1, -0.1)] \n"
   ]
  }
 ],
 "metadata": {
  "anaconda-cloud": {},
  "colab": {
   "collapsed_sections": [],
   "name": "Solution_5.ipynb",
   "provenance": []
  },
  "kernelspec": {
   "display_name": "Python 3",
   "language": "python",
   "name": "python3"
  },
  "language_info": {
   "codemirror_mode": {
    "name": "ipython",
    "version": 3
   },
   "file_extension": ".py",
   "mimetype": "text/x-python",
   "name": "python",
   "nbconvert_exporter": "python",
   "pygments_lexer": "ipython3",
   "version": "3.8.8"
  },
  "title": "Solution 5: Models for competitive exclusion: microbial ecology"
 },
 "nbformat": 4,
 "nbformat_minor": 1
}
