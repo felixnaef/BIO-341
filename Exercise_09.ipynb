{
 "cells": [
  {
   "cell_type": "markdown",
   "metadata": {},
   "source": [
    "**Course**: BIO-341 [_Dynamical systems in Biology_](https://moodle.epfl.ch/course/info.php?id=14291)\n",
    "\n",
    "**Professor**: _Julian Shillcock_ & _Felix Naef_\n",
    "\n",
    "SSV, BA5, 2024\n",
    "\n",
    "Note that this document is primarily aimed at being consulted as a Jupyter notebook, the PDF rendering being not optimal."
   ]
  },
  {
   "cell_type": "code",
   "execution_count": 1,
   "metadata": {
    "id": "hA4-xWAr7La-"
   },
   "outputs": [
    {
     "name": "stderr",
     "output_type": "stream",
     "text": [
      "/var/folders/yf/q5hy0j9s5td1mjcljsx68fxh0000gq/T/ipykernel_41792/1076716760.py:9: DeprecationWarning: `set_matplotlib_formats` is deprecated since IPython 7.23, directly use `matplotlib_inline.backend_inline.set_matplotlib_formats()`\n",
      "  set_matplotlib_formats('png', 'pdf')\n"
     ]
    }
   ],
   "source": [
    "#import some of the libraries you'll need\n",
    "import numpy as np\n",
    "import matplotlib.pyplot as plt\n",
    "from IPython.display import set_matplotlib_formats\n",
    "from ipywidgets import interact\n",
    "from scipy.integrate import odeint\n",
    "import plotly.graph_objects as go\n",
    "\n",
    "set_matplotlib_formats('png', 'pdf')"
   ]
  },
  {
   "cell_type": "markdown",
   "metadata": {},
   "source": [
    "A. Consider the following two-dimensional model (the van der Pol oscillator):\n",
    "\n",
    "$\\frac{dx}{dt} = y$ \n",
    "\n",
    "$\\frac{dy}{dt} = -x + \\mu(1 - x^2)y$\n",
    "\n",
    "where $\\mu$ is a real constant (positive or negative). This question explores some of the conditions for there to be a bifurcation at $\\mu$ = 0, in which a stable spiral changes to an unstable spiral and a limit cycle appears as the parameter $\\mu$ is varied (but we are not looking at the limit cycle in this problem.)"
   ]
  },
  {
   "cell_type": "markdown",
   "metadata": {},
   "source": [
    "1) The origin (0,0) is a fixed point for any value of $\\mu$. Find the Jacobian at the origin, and evaluate its trace and determinant in terms of $\\mu$"
   ]
  },
  {
   "cell_type": "markdown",
   "metadata": {},
   "source": [
    "2) State why that the origin cannot be a saddlepoint for any value of $\\mu$."
   ]
  },
  {
   "cell_type": "markdown",
   "metadata": {},
   "source": [
    "3) On the Tau-Delta plot, mark the location of the fixed point for the following values of $\\mu$ = -3, -2, -1, 0, 1, 3. Label each point with the type/stability of the fixed point. For the case $\\mu$ = -2, find the eigenvalue(s) and eigenvector(s) and determine if the fixed point is a star or degenerate node.\n"
   ]
  },
  {
   "cell_type": "markdown",
   "metadata": {},
   "source": [
    "4) For the case $\\mu$ = -1, draw the phase portrait including only the nullclines (with the direction of the other vector field dx/dt and dy/dt along them) and some typical trajectories (don’t spend too long on the trajectories!). Can you infer the type of the fixed point from the phase portrait?"
   ]
  },
  {
   "cell_type": "markdown",
   "metadata": {},
   "source": [
    "5) How does the fixed point change character as $\\mu$ increases from negative to positive values?"
   ]
  },
  {
   "cell_type": "markdown",
   "metadata": {},
   "source": [
    "B. Now consider the similar equations:\n",
    "\n",
    "$\\frac{dx}{dt} = y + \\mu x$ \n",
    "\n",
    "$\\frac{dy}{dt} = -x + \\mu(1 - x^2)y$"
   ]
  },
  {
   "cell_type": "markdown",
   "metadata": {},
   "source": [
    "1) Find the Jacobian for the fixed point at the origin, and the fixed point’s type and stability for $\\mu$ = -3, -1, 0, 1, 3. What is different from the previous case?"
   ]
  },
  {
   "cell_type": "markdown",
   "metadata": {},
   "source": [
    "2) Are there other fixed points than the origin for this model? If so, find their coordinates (x*, y*) as a function of $\\mu$. Set $\\mu$ = 0.1 and find the coordinates of any non-zero fixed points."
   ]
  },
  {
   "cell_type": "markdown",
   "metadata": {},
   "source": [
    "3) For the value $\\mu$ = 0.1, draw the phase portrait including: the nullclines, fixed point(s), and direction of the vector field on the nullclines (not trajectories). How is the phase portrait different from the previous case?"
   ]
  }
 ],
 "metadata": {
  "anaconda-cloud": {},
  "colab": {
   "name": "Solution 9.ipynb",
   "provenance": []
  },
  "kernelspec": {
   "display_name": "bio_341",
   "language": "python",
   "name": "python3"
  },
  "language_info": {
   "codemirror_mode": {
    "name": "ipython",
    "version": 3
   },
   "file_extension": ".py",
   "mimetype": "text/x-python",
   "name": "python",
   "nbconvert_exporter": "python",
   "pygments_lexer": "ipython3",
   "version": "3.11.5"
  },
  "title": "Exercise 9: Bifurcation in the van der Pol oscillator"
 },
 "nbformat": 4,
 "nbformat_minor": 4
}
