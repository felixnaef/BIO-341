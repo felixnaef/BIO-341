{
 "cells": [
  {
   "cell_type": "markdown",
   "metadata": {},
   "source": [
    "**Course**: [_Systèmes dynamiques en biologie_](https://moodle.epfl.ch/course/info.php?id=14291) (BIO-341)\n",
    "\n",
    "**Professor**: _Felix Naef_\n",
    "\n",
    "SSV, BA5, 2022\n"
   ]
  },
  {
   "cell_type": "code",
   "execution_count": 1,
   "metadata": {},
   "outputs": [],
   "source": [
    "#import important libraries\n",
    "import numpy as np\n",
    "import matplotlib\n",
    "import matplotlib.pyplot as plt\n",
    "from IPython.display import set_matplotlib_formats\n",
    "from scipy.integrate import odeint\n",
    "set_matplotlib_formats('png', 'pdf')\n",
    "matplotlib.rc('image', cmap='RdBu')\n",
    "from matplotlib.lines import Line2D\n",
    "import matplotlib.animation as animation\n",
    "import random"
   ]
  },
  {
   "cell_type": "markdown",
   "metadata": {},
   "source": [
    "# Traveling wave solutions in 1D reaction-diffusion equations"
   ]
  },
  {
   "cell_type": "markdown",
   "metadata": {},
   "source": [
    "A front solution in a one-dimensional partial differential equation (PDE) is a solution of the form $u(x,t)=U(x-ct)$ with boundary conditions on $U(-\\infty)$ and $U(+\\infty)$. In this session, we will study the existence of front solutions for the reaction-diffusion equations using simulations, 2D phase portraits, and a mechanical analogy.\n",
    "\n",
    "We will study the following PDE\n",
    "\n",
    "\\begin{equation}\n",
    "\\frac{\\partial u}{\\partial t} = g(u) +\\frac{\\partial^2 u}{\\partial x^2}~\n",
    "\\end{equation}\n",
    "with\n",
    "$g(u)= 2 \\sin(2\\pi u) \\left( \\sin^2( \\pi u) - \\alpha \\right)$ and $0 < \\alpha < 1$."
   ]
  },
  {
   "cell_type": "markdown",
   "metadata": {},
   "source": [
    "1) Rewrite the system using the ansatz $u(x,t)=U(x-ct)$ "
   ]
  },
  {
   "cell_type": "markdown",
   "metadata": {},
   "source": [
    "From now on we will focus only on $U\\in[0,1/2]$.\n",
    "\n",
    "We want waves with boundary conditions $U(-\\infty)=U_L=0$ and $U(\\infty)=U_R=1/2$."
   ]
  },
  {
   "cell_type": "markdown",
   "metadata": {},
   "source": [
    "2) Transform the second order differential equation into a system of two first order ODEs."
   ]
  },
  {
   "cell_type": "markdown",
   "metadata": {},
   "source": [
    "3) Compute the nullclines and find the stability of the two extremal fixed points."
   ]
  },
  {
   "cell_type": "markdown",
   "metadata": {},
   "source": [
    "4) Simulate the system and plot the 2D phase portraits, for $\\alpha = 1/2$, $\\alpha < 1/2$ and $\\alpha > 1/2$ in the range $0 < \\alpha < 1$. For each value of $\\alpha$ also vary $c$ and look for the value $c^*$in which you find a trajectory connecting the two saddle points, called *heteroclinic orbit*.\n",
    "\n",
    "*Hint 1*: in order to find the $c^*$ set the initial conditions around the unstable direction of the saddle points, you can numerically find the eigendirections using Python. Note that $c^*$ is positive for $\\alpha > 0.5$ and negative for $\\alpha < 0.5$. (Be careful, this is true only for the initial conditions we have chosen!).\n",
    "\n",
    "*Hint 2*: integrate for $T\\leq5$."
   ]
  },
  {
   "cell_type": "markdown",
   "metadata": {},
   "source": [
    "5) Discuss the analogy of the PDE for $U$ with the Newton equation."
   ]
  },
  {
   "cell_type": "markdown",
   "metadata": {},
   "source": [
    "6) Let $G(U)=-g(u)$. Introducing the potential function $W(U)=-\\int G(U) dU$, derive $W(U)$ for the above case."
   ]
  },
  {
   "cell_type": "markdown",
   "metadata": {},
   "source": [
    "7) Think of a ball rolling in the potential $W(U)$ starting at $U=U_L=0$ with an infinitely small perturbation to the right. For $\\alpha=1/2$, describe the trajectory of the ball for $c > 0$. What happens for $c=0$?\n",
    "    "
   ]
  },
  {
   "cell_type": "markdown",
   "metadata": {},
   "source": [
    "8) Here, we consider the case $c\\geq0$. What can you say about the potential difference between the two states $U_L$ and $U_R$ in the case $1/2 < \\alpha < 1$ and $0 < \\alpha < 1/2$? In which of the cases the ball will move from $U_L$ and $U_R$? Is this in agreement with the hint of question 4) regarding the signs of $\\alpha$ and $c^*$?"
   ]
  }
 ],
 "metadata": {
  "kernelspec": {
   "display_name": "Python 3",
   "language": "python",
   "name": "python3"
  },
  "language_info": {
   "codemirror_mode": {
    "name": "ipython",
    "version": 3
   },
   "file_extension": ".py",
   "mimetype": "text/x-python",
   "name": "python",
   "nbconvert_exporter": "python",
   "pygments_lexer": "ipython3",
   "version": "3.8.8"
  }
 },
 "nbformat": 4,
 "nbformat_minor": 4
}
