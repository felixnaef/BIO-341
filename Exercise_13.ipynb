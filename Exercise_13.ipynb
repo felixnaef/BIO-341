{
 "cells": [
  {
   "cell_type": "markdown",
   "metadata": {},
   "source": [
    "### **Course**: BIO-341 [_Dynamical systems in biology_](https://moodle.epfl.ch/course/info.php?id=14291)\n",
    "\n",
    "**Professor**: _Julian Shillcock_ & _Felix Naef_\n",
    "\n",
    "SSV, BA5, 2023\n",
    "\n",
    "Note that this document is primarily aimed at being consulted as a Jupyter notebook, the PDF rendering being not optimal."
   ]
  },
  {
   "cell_type": "code",
   "execution_count": 1,
   "metadata": {},
   "outputs": [],
   "source": [
    "import numpy as np\n",
    "import matplotlib.pyplot as plt\n",
    "from ipywidgets import interact\n",
    "from sklearn.linear_model import LinearRegression"
   ]
  },
  {
   "cell_type": "markdown",
   "metadata": {},
   "source": [
    "# Ex 1"
   ]
  },
  {
   "cell_type": "markdown",
   "metadata": {},
   "source": [
    "\n",
    "The sine map is defined by the iteration scheme:\n",
    "\\begin{equation}\n",
    "    X_{n+1} = r \\sin(\\pi x_n)\n",
    "\\end{equation}\n",
    "For a constant parameter $ 0 < r < 1 $, and an initial value that satisfies $ 0 < x_0 < 1 $.\n",
    "\n",
    "\n",
    "Write a Python code that iterates the above map, given the parameters: $ r $, the number of iterations $ N $, and an initial point $ x_0 $. The code should either write the iterates to a file for later plotting, or plot them directly. Use 2000 iterations and discard the first 1000 points for plotting or calculations to remove the initial transients in the map."
   ]
  },
  {
   "cell_type": "markdown",
   "metadata": {},
   "source": [
    "In order to find the fixed point we want to find the point $x_{FP}$ such that:\n",
    "$$\n",
    "x_{FP} = r sin( \\pi x_{FP})\n",
    "$$\n",
    "Oe solution of the equation is obviously 0, for the other ones (if any), we need to use numerical approaches"
   ]
  },
  {
   "cell_type": "code",
   "execution_count": 39,
   "metadata": {},
   "outputs": [],
   "source": [
    "from scipy.optimize import fsolve\n",
    "import numpy as np\n",
    "\n",
    "def sin_map(x, r):\n",
    "    '''\n",
    "    Sinusoidal map\n",
    "    '''\n"
   ]
  },
  {
   "cell_type": "markdown",
   "metadata": {},
   "source": [
    "## exercise 1.1\n",
    "\n",
    "Wrap the iteration function in a loop over a user-defined range of r values, and plot all the iterates for each r value in the same graph. It should start to look like the figure below, i.e., for each value of r, all the iterates produced from the initial value x0 should be plotted vertically. If you want, you can change the value of x0 for each value of r, but because the map is “chaotic”, it doesn’t really matter. NB. Don’t use x0 = 0, or 1!"
   ]
  },
  {
   "cell_type": "code",
   "execution_count": 3,
   "metadata": {},
   "outputs": [],
   "source": [
    "def trajectory(r, N_steps, x0):\n",
    "    '''\n",
    "    Compute the trajectory of the sinusoidal map\n",
    "    '''\n"
   ]
  },
  {
   "cell_type": "markdown",
   "metadata": {},
   "source": [
    "For this exercise we just need to run the trajectory function for different values of r.   \n",
    "Notice how we run the system for 100 iterations, but than we plot only the last 50: we basically make sure that the system has time to evolve from x0 to the asymptotic solution."
   ]
  },
  {
   "cell_type": "code",
   "execution_count": 40,
   "metadata": {},
   "outputs": [],
   "source": [
    "x0 = 0.5\n",
    "n_last = 150\n",
    "r_values = np.linspace(0.1, 1.0, 1500)\n",
    "\n",
    "# Initialize arrays to store plot data\n",
    "x_plot = []\n",
    "y_plot = []\n",
    "\n"
   ]
  },
  {
   "cell_type": "markdown",
   "metadata": {},
   "source": [
    "## Exercise 1.2"
   ]
  },
  {
   "cell_type": "markdown",
   "metadata": {},
   "source": [
    "\n",
    "1.2 For r = 0.6, iterate the map for at least 5 initial values randomly chosen between (0, 1). What do you observe? Then repeat for r = 0.72 and 0.75. What do you observe in your plot of xn against increasing r values?\n",
    "\n"
   ]
  },
  {
   "cell_type": "markdown",
   "metadata": {},
   "source": [
    "### r = 0.6"
   ]
  },
  {
   "cell_type": "markdown",
   "metadata": {},
   "source": [
    "### r = 0.72"
   ]
  },
  {
   "cell_type": "markdown",
   "metadata": {},
   "source": [
    "### r = 0.75"
   ]
  },
  {
   "cell_type": "markdown",
   "metadata": {},
   "source": [
    "## Ex. 1.3"
   ]
  },
  {
   "cell_type": "markdown",
   "metadata": {},
   "source": [
    "Keep increasing r, and plot the iterates produced. At what r value does “chaos” set in for the sine map? i.e., when does a (nearly) infinite number of fixed points appears (cp. Logistic map shown in the figure below, for which lambda ~ 3.6 is the transition to chaos. Note that lambda in the logistic map plays the role of r for the sine map.) Do you observe any “stability windows” in which the number of fixed points is small? (cp. Logistic map for lambda ~ 3.82, where only 3 fixed points appear.)"
   ]
  },
  {
   "cell_type": "markdown",
   "metadata": {},
   "source": [
    "# Ex 2"
   ]
  },
  {
   "cell_type": "markdown",
   "metadata": {},
   "source": [
    "## Ex 2.1"
   ]
  },
  {
   "cell_type": "markdown",
   "metadata": {},
   "source": [
    " Extend your code to output the iterates from the sine map for a sequence of r values between 0.1 and 1, taking at least 20 values, and randomly setting the initial point for each one. Plot the fixed point(s) on the Y axis against the r value on the X axis, so you get a plot similar to the one above.\n",
    "Then repeat this accurately enough that you can estimate the successive r values at which the number of fixed points doubles (you may need more than 20 values of r, and you may need to zoom in on small portions of the r-axis to get sufficient accuracy. So you’ll need to examine many little graphs across the r axis to locate the values of r where the period doubling occurs."
   ]
  },
  {
   "cell_type": "markdown",
   "metadata": {},
   "source": [
    "Estimating Feigenbaum number  \n",
    "\n",
    "delta_true = 0.6692"
   ]
  },
  {
   "cell_type": "markdown",
   "metadata": {},
   "source": [
    "## Ex 2.2"
   ]
  },
  {
   "cell_type": "markdown",
   "metadata": {},
   "source": [
    "How many successive splittings can you measure accurately enough to get values for the Feigenbaum numbers?"
   ]
  },
  {
   "cell_type": "markdown",
   "metadata": {},
   "source": [
    "## Ex 2.3"
   ]
  },
  {
   "cell_type": "markdown",
   "metadata": {},
   "source": [
    "Say how your estimates of the Feigenbaum numbers for the sine map compare with those for the logistic map shown in the figure."
   ]
  },
  {
   "cell_type": "markdown",
   "metadata": {},
   "source": [
    "# Ex 3:  Fractal dimension of the sine map"
   ]
  },
  {
   "cell_type": "markdown",
   "metadata": {},
   "source": [
    "## Ex 3.1"
   ]
  },
  {
   "cell_type": "markdown",
   "metadata": {},
   "source": [
    "Find a value of r such that you get a lot of fixed points (i.e., you are in a region for the sine map corresponding to the region r ~ 3.95 for the logistic map). Generate 10,000 points from a randomly-chosen initial point x0, and write them to a file. Discard the first 5,000. Duplicate the data into a second column shifting each value by one. So, for each row in the file, column one contains xn, and column two contains xn+1. Plot xn+1 against xn."
   ]
  },
  {
   "cell_type": "markdown",
   "metadata": {},
   "source": [
    "## Ex 3.2"
   ]
  },
  {
   "cell_type": "markdown",
   "metadata": {},
   "source": [
    "For the 50,000 points from section 3.1, and for a series of values of $\\epsilon = 1, 0.5, 0.25, \\frac{1}{2^n} \\ldots$, create a histogram of the number of points within a distance $\\epsilon$ of $x_i$ for a sequence of values of $x_i$ ranging from 0 to 1. Then average the number of points in all the bins for each $x_i$ value, to get an average $\\langle N(\\epsilon) \\rangle$ for the number of points that lie in bins of size $\\epsilon$ across the set of points. Repeat this for each $\\epsilon$.\n",
    "\n",
    "Plot $\\ln(\\langle N(\\epsilon) \\rangle)$ against $\\ln(\\epsilon)$ and measure the slope to obtain the “fractal dimension” of the fixed points of the sine map for a single $r$ value.\n",
    "\n",
    "What is the distribution of fixed points for this value of $r$?\n"
   ]
  },
  {
   "cell_type": "code",
   "execution_count": 41,
   "metadata": {},
   "outputs": [],
   "source": [
    "# seq = np.linspace(0, r_chaos, 100)\n",
    "\n",
    "eps = [1/2**n for n in range(1, 15)]\n",
    "\n",
    "# the fucntion is already given\n",
    "\n",
    "def count_points(tr, eps):\n",
    "    '''\n",
    "    Count the number of points of tr that are within eps radius from each point of tr\n",
    "    '''\n",
    "    # compute the distance between each point of tr, getting a matrix\n",
    "    dist = np.abs(tr[:, None] - tr[None, :])\n",
    "    # count how many points are within eps radius from each point of seq \n",
    "    count = np.sum(dist < eps, axis=0)\n",
    "\n",
    "    return count.mean()\n",
    "\n",
    "count_points(tr, eps[13])\n",
    "N_eps = [count_points(tr, eps[i]) for i in range(len(eps))]"
   ]
  },
  {
   "cell_type": "code",
   "execution_count": 42,
   "metadata": {},
   "outputs": [],
   "source": [
    "# use linear regression to find the slope...."
   ]
  },
  {
   "cell_type": "markdown",
   "metadata": {},
   "source": [
    "# Ex 4: Universality in chaos"
   ]
  },
  {
   "cell_type": "markdown",
   "metadata": {},
   "source": [
    "Add a new function to your code from Section 1.0, that iterates the logistic map:  \n",
    "$$\n",
    "  x_{n+1} = \\lambda x_n (1–x_n)\n",
    "$$\n",
    "\n",
    "where λ is in the range(0,4),and $x_0$ is in the range(0,1).Note that I have used rand λ because they have different allowed ranges."
   ]
  },
  {
   "cell_type": "markdown",
   "metadata": {},
   "source": [
    "## ex 4.1"
   ]
  },
  {
   "cell_type": "markdown",
   "metadata": {},
   "source": [
    "Choose values of $r$ and $\\lambda$ near the beginning of their range (but not zero), and plot the first iterate obtained from both maps on the same graph, i.e., if $f(x)$ is the logistic map and $g(x)$ is the sine map, plot $f(x_0)$ and $g(x_0)$ for many $x_0$ between 0 and 1. What do you observe? Can you find values of $r$, $\\lambda$ so that the curves nearly overlap?\n",
    "    "
   ]
  },
  {
   "cell_type": "code",
   "execution_count": 43,
   "metadata": {},
   "outputs": [],
   "source": [
    "def logistic_map(x, lamb):\n",
    "    '''\n",
    "    Logistic map\n",
    "    '''\n"
   ]
  },
  {
   "cell_type": "code",
   "execution_count": 44,
   "metadata": {},
   "outputs": [],
   "source": [
    "def trajectory_log(lamb, N, x0):\n",
    "    '''\n",
    "    Compute the trajectory of the logistic map\n",
    "    '''\n"
   ]
  },
  {
   "cell_type": "markdown",
   "metadata": {},
   "source": [
    "What property of the map functions do you think is necessary for two discrete maps to have similar long-time behaviour (referred to in the literature as being in the same universality class)?\n",
    "\\end{enumerate}\n"
   ]
  },
  {
   "cell_type": "markdown",
   "metadata": {},
   "source": [
    "## Ex 4.2"
   ]
  },
  {
   "cell_type": "markdown",
   "metadata": {},
   "source": [
    "Comment on how your bifurcation curve for the sine map compares to that obtained from the logistic map shown above."
   ]
  },
  {
   "cell_type": "markdown",
   "metadata": {},
   "source": [
    "## Ex 4.3"
   ]
  },
  {
   "cell_type": "markdown",
   "metadata": {},
   "source": [
    "What implications does this have for using simple maps like the logistic map for making predictions about complex natural system such as turbulent flow of fluids?"
   ]
  }
 ],
 "metadata": {
  "kernelspec": {
   "display_name": "numpyro",
   "language": "python",
   "name": "python3"
  },
  "language_info": {
   "codemirror_mode": {
    "name": "ipython",
    "version": 3
   },
   "file_extension": ".py",
   "mimetype": "text/x-python",
   "name": "python",
   "nbconvert_exporter": "python",
   "pygments_lexer": "ipython3",
   "version": "3.9.16"
  }
 },
 "nbformat": 4,
 "nbformat_minor": 2
}
