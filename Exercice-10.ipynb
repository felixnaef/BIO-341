{
 "cells": [
  {
   "cell_type": "markdown",
   "metadata": {
    "id": "msxy7km-lwO9"
   },
   "source": [
    "**Course**: [_Systèmes dynamiques en biologie_](https://moodle.epfl.ch/course/info.php?id=14291) (BIO-341)\n",
    "\n",
    "**Professor**: _Felix Naef_\n",
    "\n",
    "SSV, BA5, 2022"
   ]
  },
  {
   "cell_type": "code",
   "execution_count": 8,
   "metadata": {
    "id": "03GfzrTflwPA"
   },
   "outputs": [],
   "source": [
    "#import important libraries\n",
    "import numpy as np\n",
    "import matplotlib.pyplot as plt\n",
    "from IPython.display import set_matplotlib_formats\n",
    "from scipy.integrate import odeint\n",
    "import math as mt\n",
    "from mpl_toolkits.mplot3d import Axes3D\n",
    "from sympy import var, plot_implicit\n",
    "from matplotlib.lines import Line2D\n",
    "set_matplotlib_formats('png', 'pdf')\n",
    "import random"
   ]
  },
  {
   "cell_type": "markdown",
   "metadata": {},
   "source": [
    "# Circadian oscillators"
   ]
  },
  {
   "cell_type": "markdown",
   "metadata": {},
   "source": [
    "## 1. Sample exam question: Coupled oscillators (Paper and pencil)"
   ]
  },
  {
   "cell_type": "markdown",
   "metadata": {},
   "source": [
    "Les phases de deux oscillateurs avec fréquence propre $\\omega_1$ et $\\omega_2$ sont notées $\\phi_1(t)$ et\n",
    "$\\phi_2(t)$. \n",
    "\n",
    "Celles-ci sont couplées selon le modèle suivant :"
   ]
  },
  {
   "cell_type": "markdown",
   "metadata": {},
   "source": [
    "\\begin{equation}\n",
    "\\frac{d\\phi_1}{dt} = \\omega_1 + K f(\\phi_2 - \\phi_1)\n",
    "\\end{equation}\n",
    "\\begin{equation}\n",
    "\\frac{d\\phi_2}{dt} = \\omega_2  + K f(\\phi_1 - \\phi_2)\n",
    "\\end{equation}\n"
   ]
  },
  {
   "cell_type": "markdown",
   "metadata": {},
   "source": [
    "avec $f(x) = sin(2x)$ "
   ]
  },
  {
   "cell_type": "markdown",
   "metadata": {},
   "source": [
    "Déterminez si les deux phases se synchronisent, c’est-à-dire que la différence de phase $ \\alpha =  \\phi_2 -  \\phi_1$\n",
    "atteint un point fixe stable"
   ]
  },
  {
   "cell_type": "markdown",
   "metadata": {},
   "source": [
    "1. Posez l’équation différentielle pour la différence de phase $\\alpha =  \\phi_2 -  \\phi_1$. (1 point)"
   ]
  },
  {
   "cell_type": "markdown",
   "metadata": {},
   "source": [
    "2. Expliquez si ce modèle permet la synchronisation des deux phases, et si oui, sous\n",
    "quelles conditions. (2 points)\n",
    "*Conseil : argumentez graphiquement ou par le calcul*"
   ]
  },
  {
   "cell_type": "markdown",
   "metadata": {},
   "source": [
    "3. Que se passe-t-il pour a lorsque K tend vers l’infini ? (2 points)"
   ]
  },
  {
   "cell_type": "markdown",
   "metadata": {
    "id": "K3ZLuiG6lwPB"
   },
   "source": [
    "## 2. Circadian oscillators and entrainement of a generic non-linear oscillator (Python)"
   ]
  },
  {
   "cell_type": "markdown",
   "metadata": {
    "id": "x20J1jcklwPC"
   },
   "source": [
    "Here, we first simulate a toy model of the circadian clock consisting of three variables that implements the now famous negative feedback loop oscillator (See the 2017 Nobel price in Physiology and Medicine)."
   ]
  },
  {
   "cell_type": "markdown",
   "metadata": {
    "id": "Cgy3UKkQlwPC"
   },
   "source": [
    "## A three-variable  model of a circadian oscillator"
   ]
  },
  {
   "cell_type": "markdown",
   "metadata": {
    "id": "7_A7p_uylwPC"
   },
   "source": [
    "This is a highly simplified model of a circadian oscillator (see Feedback of the Drosophila period gene product on circadian cycling of its messenger RNA levels, Hardin P, Hall JC and Rosbash M, Nature 1990). It takes into account some basic ingredients, notably the negative feedback loop. A clock gene mRNA (X) produces a clock protein (Y) which, in turn, activates a transcriptional inhibitor (Z)."
   ]
  },
  {
   "cell_type": "markdown",
   "metadata": {
    "id": "3xLKb7X-lwPD"
   },
   "source": [
    "\\begin{equation}\n",
    "\\frac{dX}{dt} = v_{1} \\frac{K_{1}^{4}}{K_{1}^{4} + Z^ {4}} - v_{2} \\frac{X}{K_{2} + X} \n",
    "\\end{equation}\n",
    "\\begin{equation}\n",
    "\\frac{dY}{dt} = k_{3}X  - v_{4} \\frac{Y}{K_{4} + Y} \n",
    "\\end{equation}\n",
    "\\begin{equation}\n",
    "\\frac{dZ}{dt} = k_{5}Y  - v_{6} \\frac{Z}{K_{6} + Z}  \n",
    "\\end{equation}"
   ]
  },
  {
   "cell_type": "markdown",
   "metadata": {
    "id": "Z5e3DodrlwPD"
   },
   "source": [
    "### The Model"
   ]
  },
  {
   "cell_type": "markdown",
   "metadata": {
    "id": "7pyvpD5rlwPE"
   },
   "source": [
    "1) Explain the different variables, terms in the equations, and parameters. In particular explain the term containing the fractions."
   ]
  },
  {
   "cell_type": "markdown",
   "metadata": {
    "id": "s9xuhL3BlwPE"
   },
   "source": [
    "2) Based on the literature, discuss plausible genes/proteins that could represent the $X,Y,Z$ variables."
   ]
  },
  {
   "cell_type": "markdown",
   "metadata": {
    "id": "1VJ1_eV-lwPF"
   },
   "source": [
    "3) Discuss/criticize the main assumptions of the model."
   ]
  },
  {
   "cell_type": "markdown",
   "metadata": {
    "id": "zvj97huTlwPF"
   },
   "source": [
    "### Simulation of the Model"
   ]
  },
  {
   "cell_type": "markdown",
   "metadata": {
    "id": "X42MRGVTlwPG"
   },
   "source": [
    "4) Using the values $v_{1} = 0.7 \\,nMh^{-1}, v_{2} = v_{4} = v_{6} = 0.35\\, nMh^{-1}, K_{1}=K_{2}=K_{4}=K_{6} = 1\\,nM$ and $k_{3}=k_{5}=0.7\\,h^{-1}$, simulate the model:  set appropriate initial conditions and time integration parameters to obtain a limit cycle. Plot some representative trajectories in 2D (x VS time, y VS time or z VS time) or 3D. "
   ]
  },
  {
   "cell_type": "markdown",
   "metadata": {
    "id": "8CgzhT1jlwPJ"
   },
   "source": [
    "5) Use Period_finder on a long (many periods) trajectory on x. \n",
    "Comment the period distribution you find and its point estimate.\n",
    "What happens if you use the y or z trajectory to evaluate the period?\n",
    "\n",
    "The Period_finder function takes as an imput the x (or y or z) vector of coordinates and a vector of equally spaced times at wich the given coordinate was obtained with a simulation. \n",
    "It takes the x limits of the plot as a possible input, with default values of 0 to 50.\n",
    "It returns a plot of the period distribution and a point estimate for the period.\n",
    "If you want to understand how this function was built, read \"A. few words on the discrete Fourier transform\"."
   ]
  },
  {
   "cell_type": "code",
   "execution_count": 13,
   "metadata": {
    "id": "27q3ai3MnYnH"
   },
   "outputs": [],
   "source": [
    "def Period_finder(x, tspan, xlim=[0,50]):\n",
    "    signal = x\n",
    "    \n",
    "    omega = np.fft.fft(signal)\n",
    "    \n",
    "    modes = np.arange(omega.size)\n",
    "    \n",
    "    t_dist = (tspan[-1]-tspan[0])\n",
    "    \n",
    "    omega_cut = len(omega)//2\n",
    "    \n",
    "    modes = modes[1:omega_cut]\n",
    "    omega = omega[1:omega_cut]\n",
    "    \n",
    "    periods = t_dist/modes\n",
    "    \n",
    "    abs_o = np.absolute(omega)\n",
    "    max_o = np.argmax(abs_o)\n",
    "    \n",
    "    period_estimate = periods[max_o]\n",
    "    \n",
    "    period_mean = np.mean(periods[max_o-5:max_o+5])\n",
    "    \n",
    "    plt.plot(periods,abs_o/np.sum(abs_o))\n",
    "    \n",
    "    plt.xlim(xlim)\n",
    "    plt.xlabel(\"period\")\n",
    "    plt.ylabel(\"propobabilty density\")\n",
    "    plt.show()\n",
    "    \n",
    "    print(\"the expected period value is about \" + str(round(period_mean,2)) +\" hours\")\n",
    "    \n",
    "    return period_mean"
   ]
  },
  {
   "cell_type": "markdown",
   "metadata": {
    "id": "3On_-PGWlwPM"
   },
   "source": [
    "#### Hopf bifurcation.\n",
    "6) Vary the value of the transcription rate $v_{1}$ in the interval $(0,5]$ $nMh^{-1}$. You can plot some representative trajectories (see the code before and replace the v1). Plot and discuss the bifurcation diagram (show $X_{min}$ and $X_{max}$ in function of $v_{1}\\in\\left(0,5\\right]$)."
   ]
  }
 ],
 "metadata": {
  "anaconda-cloud": {},
  "colab": {
   "collapsed_sections": [],
   "name": "Solutions 10.ipynb",
   "provenance": []
  },
  "kernelspec": {
   "display_name": "Python 3",
   "language": "python",
   "name": "python3"
  },
  "language_info": {
   "codemirror_mode": {
    "name": "ipython",
    "version": 3
   },
   "file_extension": ".py",
   "mimetype": "text/x-python",
   "name": "python",
   "nbconvert_exporter": "python",
   "pygments_lexer": "ipython3",
   "version": "3.8.8"
  }
 },
 "nbformat": 4,
 "nbformat_minor": 1
}
