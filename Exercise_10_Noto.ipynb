{
 "cells": [
  {
   "cell_type": "markdown",
   "id": "a6a29209-d3e9-4873-af26-e670fdfe4be6",
   "metadata": {
    "tags": []
   },
   "source": [
    "### **Course**: BIO-341 [_Dynamical systems in biology_](https://moodle.epfl.ch/course/info.php?id=14291)\n",
    "\n",
    "**Professor**: _Julian Shillcock_ & _Felix Naef_\n",
    "\n",
    "SSV, BA5, 2023"
   ]
  },
  {
   "cell_type": "markdown",
   "id": "4cf1aba4-9fba-41b5-9526-32b96297e469",
   "metadata": {},
   "source": [
    "1. Write a Python function that takes as an input a dynamical system (the vectorial equation\n",
    "˙X\n",
    "= F(X)) (e.g. system1 defined in the code) and a closed curve (given as a matrix containing\n",
    "the x and y coordinates of successive points on the curve) (e.g. curve defined in the code)\n",
    "and as an output tells if such curve is the boundary of a Poincaré-Bendixon surface. Hint:\n",
    "it might be helpful to first write a function that, given 3 vectors on a plane A, B, C, tells if\n",
    "their order is ABC or ACB in a counter-clockwise direction.\n",
    "Notice that this function can evaluate the vector field only on a finite number of points,\n",
    "and its answer may be uncorrect if the number of points defining the curve is too small\n",
    "and/or the vector field is too variable.\n",
    "\n",
    "2. For all 3 systems (defined in the code) plot the curve (again defined in the code as curve) and\n",
    "the vector field on it to visually know what you expect your function to give as an output.\n",
    "\n",
    "3. Verify with the function you wrote that curve (defined in the code) is the boundary of a\n",
    "Poincaré-Bendixon surface for system1 with the vector field pointing inwards, for system2\n",
    "with the vector field pointing outward and it is not for system3. (optional) To further check\n",
    "your code you can test the first 3 systems with curve2 and make sure you obtain the same\n",
    "results.\n",
    "\n",
    "4. For the glycolysis system studied in class and defined in the code find a trapping region and\n",
    "test your function on it.\n",
    "\n",
    "5. For the glycolysis system studied in class and defined in the code plot the curve defining a\n",
    "trapping region (the same trapping region as question 4) and the vector field on it to visually\n",
    "check your result.\n",
    "Reminder: the vector field must be plotted only ON the curve you want to check, not in the rest\n",
    "of the space."
   ]
  },
  {
   "cell_type": "code",
   "execution_count": 1,
   "id": "657e4670-dc72-4e32-9b93-0578126e51ef",
   "metadata": {},
   "outputs": [],
   "source": [
    "# Import libraries\n",
    "import numpy as np\n",
    "import matplotlib.pyplot as plt\n",
    "\n",
    "# Definition of the systems\n",
    "def system1(X):\n",
    "    x_dot = -2 * X[0] - 4 * X[1]\n",
    "    y_dot = X[0] - 2 * X[1]\n",
    "    return np.array([x_dot, y_dot])\n",
    "\n",
    "def system2(X):\n",
    "    x_dot = 2 * X[0] - 4 * X[1]\n",
    "    y_dot = X[0] + 2 * X[1]\n",
    "    return np.array([x_dot, y_dot])\n",
    "\n",
    "def system3(X):\n",
    "    x_dot = -3 * X[1]\n",
    "    y_dot = -X[0] + X[1]\n",
    "    return np.array([x_dot, y_dot])\n",
    "\n",
    "# Closed curve\n",
    "npoints = 10000\n",
    "alpha = np.linspace(0, 2 * np.pi, npoints)\n",
    "curve = np.array([np.cos(alpha), np.sin(alpha)]).T\n",
    "curve2 = np.array([np.cos(np.flip(alpha)), np.sin(np.flip(alpha))]).T\n",
    "\n",
    "# Glycolysis model\n",
    "def glycolysis(X):\n",
    "    a = 0.5\n",
    "    b = 1  # You can change these parameters\n",
    "    x = X[0]\n",
    "    y = X[1]\n",
    "    x_dot = -x + a * y + x**2 * y\n",
    "    y_dot = b - a * y - x**2 * y\n",
    "    return np.array([x_dot, y_dot])\n"
   ]
  },
  {
   "cell_type": "code",
   "execution_count": 2,
   "id": "60578b0d-b48c-4607-ba0c-2ca31f56c7ea",
   "metadata": {},
   "outputs": [],
   "source": [
    "import numpy as np\n",
    "import matplotlib.pyplot as plt\n",
    "\n",
    "# Define your function\n",
    "def isPB(system, curve):\n",
    "    # ... your code ... #\n",
    "    return \"yes it is and the vector field points...\"  # either inwards or outwards\n"
   ]
  }
 ],
 "metadata": {
  "kernelspec": {
   "display_name": "Python 3 (ipykernel)",
   "language": "python",
   "name": "python3"
  },
  "language_info": {
   "codemirror_mode": {
    "name": "ipython",
    "version": 3
   },
   "file_extension": ".py",
   "mimetype": "text/x-python",
   "name": "python",
   "nbconvert_exporter": "python",
   "pygments_lexer": "ipython3",
   "version": "3.11.5"
  },
  "unianalytics_cell_mapping": [
   [
    "a6a29209-d3e9-4873-af26-e670fdfe4be6",
    "a6a29209-d3e9-4873-af26-e670fdfe4be6"
   ],
   [
    "4cf1aba4-9fba-41b5-9526-32b96297e469",
    "4cf1aba4-9fba-41b5-9526-32b96297e469"
   ],
   [
    "657e4670-dc72-4e32-9b93-0578126e51ef",
    "657e4670-dc72-4e32-9b93-0578126e51ef"
   ],
   [
    "60578b0d-b48c-4607-ba0c-2ca31f56c7ea",
    "60578b0d-b48c-4607-ba0c-2ca31f56c7ea"
   ]
  ],
  "unianalytics_notebook_id": "cf8058d6-867a-4485-b95f-82cdf92215bd"
 },
 "nbformat": 4,
 "nbformat_minor": 5
}
